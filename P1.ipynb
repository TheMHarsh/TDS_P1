{
 "cells": [
  {
   "cell_type": "markdown",
   "metadata": {},
   "source": [
    "# Tools in Data Science - Project 1"
   ]
  },
  {
   "cell_type": "code",
   "execution_count": 2,
   "metadata": {},
   "outputs": [],
   "source": [
    "# Imports\n",
    "import pandas as pd\n",
    "import statsmodels.api as sm\n",
    "from collections import Counter\n",
    "from datetime import datetime\n",
    "\n",
    "# Load data\n",
    "users_df = pd.read_csv('users.csv')\n",
    "repositories_df = pd.read_csv('repositories.csv')"
   ]
  },
  {
   "cell_type": "code",
   "execution_count": null,
   "metadata": {},
   "outputs": [
    {
     "name": "stdout",
     "output_type": "stream",
     "text": [
      "IDouble,TheOfficialFloW,Seldaek,riscv,JonnyBurger\n"
     ]
    }
   ],
   "source": [
    "# 1. Who are the top 5 users in Zurich with the highest number of followers? List their login in order, comma-separated.\n",
    "\n",
    "# Sort by followers and get top 5\n",
    "top_users = users_df.sort_values(by='followers', ascending=False).head(5)\n",
    "\n",
    "# Extract logins\n",
    "top_logins = top_users['login'].tolist()\n",
    "result = ','.join(top_logins)\n",
    "\n",
    "print(result)"
   ]
  },
  {
   "cell_type": "code",
   "execution_count": 8,
   "metadata": {},
   "outputs": [
    {
     "name": "stdout",
     "output_type": "stream",
     "text": [
      "lejoe,uwolfer,matthiask,oscardelben,panterch\n"
     ]
    }
   ],
   "source": [
    "# 2. Who are the 5 earliest registered GitHub users in Zurich? List their login in ascending order of created_at, comma-separated.\n",
    "\n",
    "# Convert created_at to datetime\n",
    "users_df['created_at'] = pd.to_datetime(users_df['created_at'])\n",
    "\n",
    "# Sort by created_at and get the earliest 5 users\n",
    "earliest_users = users_df.sort_values(by='created_at').head(5)\n",
    "\n",
    "# Extract logins\n",
    "earliest_logins = earliest_users['login'].tolist()\n",
    "result = ','.join(earliest_logins)\n",
    "\n",
    "print(result)"
   ]
  },
  {
   "cell_type": "code",
   "execution_count": 9,
   "metadata": {},
   "outputs": [
    {
     "name": "stdout",
     "output_type": "stream",
     "text": [
      "mit,other,apache-2.0\n"
     ]
    }
   ],
   "source": [
    "# 3. What are the 3 most popular license among these users? Ignore missing licenses. List the license_name in order, comma-separated.\n",
    "\n",
    "# Filter out missing license names\n",
    "repositories_df = repositories_df[repositories_df['license_name'].notna()]\n",
    "\n",
    "# Count occurrences of each license\n",
    "license_counts = repositories_df['license_name'].value_counts()\n",
    "\n",
    "# Get the top 3 licenses\n",
    "top_licenses = license_counts.head(3).index.tolist()\n",
    "\n",
    "# Join the license names in order\n",
    "result = ','.join(top_licenses)\n",
    "\n",
    "print(result)"
   ]
  },
  {
   "cell_type": "code",
   "execution_count": 10,
   "metadata": {},
   "outputs": [
    {
     "name": "stdout",
     "output_type": "stream",
     "text": [
      "The majority of developers work at: GOOGLE with 51 developers.\n"
     ]
    }
   ],
   "source": [
    "# 4. Which company do the majority of these developers work at?\n",
    "\n",
    "# Count occurrences of each company\n",
    "company_counts = users_df['company'].value_counts()\n",
    "\n",
    "# Get the company with the highest count\n",
    "most_common_company = company_counts.idxmax()\n",
    "most_common_count = company_counts.max()\n",
    "\n",
    "print(f\"The majority of developers work at: {most_common_company} with {most_common_count} developers.\")"
   ]
  },
  {
   "cell_type": "code",
   "execution_count": 11,
   "metadata": {},
   "outputs": [
    {
     "name": "stdout",
     "output_type": "stream",
     "text": [
      "The most popular programming language is: Python with 2558 repositories.\n"
     ]
    }
   ],
   "source": [
    "# 5. Which programming language is most popular among these users?\n",
    "\n",
    "# Count occurrences of each programming language, ignoring missing values\n",
    "language_counts = repositories_df['language'].value_counts()\n",
    "\n",
    "# Get the most popular programming language\n",
    "most_popular_language = language_counts.idxmax()\n",
    "most_popular_count = language_counts.max()\n",
    "\n",
    "print(f\"The most popular programming language is: {most_popular_language} with {most_popular_count} repositories.\")"
   ]
  },
  {
   "cell_type": "code",
   "execution_count": 12,
   "metadata": {},
   "outputs": [
    {
     "name": "stdout",
     "output_type": "stream",
     "text": [
      "The second most popular programming language among users who joined after 2020 is: JavaScript with 27 repositories.\n"
     ]
    }
   ],
   "source": [
    "# 6. Which programming language is the second most popular among users who joined after 2020?\n",
    "\n",
    "# Convert created_at to datetime and filter users who joined after 2020\n",
    "users_df['created_at'] = pd.to_datetime(users_df['created_at'])\n",
    "recent_users = users_df[users_df['created_at'] > '2020-01-01']\n",
    "\n",
    "# Get the logins of recent users\n",
    "recent_user_logins = recent_users['login'].tolist()\n",
    "\n",
    "# Filter repositories by these users\n",
    "recent_repositories = repositories_df[repositories_df['login'].isin(recent_user_logins)]\n",
    "\n",
    "# Count occurrences of each programming language\n",
    "language_counts = recent_repositories['language'].value_counts()\n",
    "\n",
    "# Get the second most popular programming language\n",
    "second_most_popular_language = language_counts.nlargest(2).index[1]\n",
    "second_most_popular_count = language_counts.nlargest(2).values[1]\n",
    "\n",
    "print(f\"The second most popular programming language among users who joined after 2020 is: {second_most_popular_language} with {second_most_popular_count} repositories.\")"
   ]
  },
  {
   "cell_type": "code",
   "execution_count": 13,
   "metadata": {},
   "outputs": [
    {
     "name": "stdout",
     "output_type": "stream",
     "text": [
      "The programming language with the highest average number of stars per repository is: BitBake with an average of 364.00 stars.\n"
     ]
    }
   ],
   "source": [
    "# 7. Which language has the highest average number of stars per repository?\n",
    "\n",
    "# Group by programming language and calculate the average stars\n",
    "average_stars = repositories_df.groupby('language')['stargazers_count'].mean()\n",
    "\n",
    "# Identify the language with the highest average stars\n",
    "highest_average_language = average_stars.idxmax()\n",
    "highest_average_value = average_stars.max()\n",
    "\n",
    "print(f\"The programming language with the highest average number of stars per repository is: {highest_average_language} with an average of {highest_average_value:.2f} stars.\")"
   ]
  },
  {
   "cell_type": "code",
   "execution_count": 14,
   "metadata": {},
   "outputs": [
    {
     "name": "stdout",
     "output_type": "stream",
     "text": [
      "riscv,bpasero,Seldaek,egamma,ethz-asl\n"
     ]
    }
   ],
   "source": [
    "# 8. Let's define leader_strength as followers / (1 + following). Who are the top 5 in terms of leader_strength? List their login in order, comma-separated.\n",
    "\n",
    "# Calculate leader_strength\n",
    "users_df['leader_strength'] = users_df['followers'] / (1 + users_df['following'])\n",
    "\n",
    "# Sort by leader_strength and get the top 5\n",
    "top_leaders = users_df.sort_values(by='leader_strength', ascending=False).head(5)\n",
    "\n",
    "# Extract logins\n",
    "top_logins = top_leaders['login'].tolist()\n",
    "result = ','.join(top_logins)\n",
    "\n",
    "print(result)"
   ]
  },
  {
   "cell_type": "code",
   "execution_count": 15,
   "metadata": {},
   "outputs": [
    {
     "name": "stdout",
     "output_type": "stream",
     "text": [
      "The correlation between the number of followers and the number of public repositories is: 0.065\n"
     ]
    }
   ],
   "source": [
    "# 9. What is the correlation between the number of followers and the number of public repositories among users in Zurich?\n",
    "\n",
    "# Calculate the correlation between followers and public repositories\n",
    "correlation = users_df['followers'].corr(users_df['public_repos'])\n",
    "\n",
    "print(f\"The correlation between the number of followers and the number of public repositories is: {correlation:.3f}\")"
   ]
  },
  {
   "cell_type": "code",
   "execution_count": 16,
   "metadata": {},
   "outputs": [
    {
     "name": "stdout",
     "output_type": "stream",
     "text": [
      "Estimated additional followers per additional public repository: 1.477\n"
     ]
    }
   ],
   "source": [
    "# 10. Does creating more repos help users get more followers? Using regression, estimate how many additional followers a user gets per additional public repository.\n",
    "\n",
    "# Define the independent variable (X) and dependent variable (Y)\n",
    "X = users_df['public_repos']\n",
    "Y = users_df['followers']\n",
    "\n",
    "# Add a constant to the independent variable (for the intercept)\n",
    "X = sm.add_constant(X)\n",
    "\n",
    "# Fit the regression model\n",
    "model = sm.OLS(Y, X).fit()\n",
    "\n",
    "# Get the summary of the regression results\n",
    "summary = model.summary()\n",
    "\n",
    "# Extract the coefficient for public_repos\n",
    "additional_followers_per_repo = model.params['public_repos']\n",
    "\n",
    "print(f\"Estimated additional followers per additional public repository: {additional_followers_per_repo:.3f}\")"
   ]
  },
  {
   "cell_type": "code",
   "execution_count": 6,
   "metadata": {},
   "outputs": [
    {
     "name": "stdout",
     "output_type": "stream",
     "text": [
      "The correlation between having projects enabled and having a wiki enabled is: 0.312\n"
     ]
    }
   ],
   "source": [
    "# 11. Do people typically enable projects and wikis together? What is the correlation between a repo having projects enabled and having wiki enabled?\n",
    "\n",
    "# Calculate the correlation directly\n",
    "correlation = repositories_df['has_projects'].astype(int).corr(repositories_df['has_wiki'].astype(int))\n",
    "\n",
    "print(f\"The correlation between having projects enabled and having a wiki enabled is: {correlation:.3f}\")\n"
   ]
  },
  {
   "cell_type": "code",
   "execution_count": 18,
   "metadata": {},
   "outputs": [
    {
     "name": "stdout",
     "output_type": "stream",
     "text": [
      "Difference in average following (hireable - non-hireable): -844.119\n"
     ]
    }
   ],
   "source": [
    "# 12. Do hireable users follow more people than those who are not hireable?\n",
    "\n",
    "# Filter hireable and non-hireable users\n",
    "hireable_users = users_df[users_df['hireable'] == True]\n",
    "non_hireable_users = users_df[users_df['hireable'].isna() | (users_df['hireable'] == False)]\n",
    "\n",
    "# Calculate average following for both groups\n",
    "average_hireable_following = hireable_users['following'].mean()\n",
    "average_non_hireable_following = non_hireable_users['following'].mean()\n",
    "\n",
    "# Calculate the difference\n",
    "difference = average_hireable_following - average_non_hireable_following\n",
    "\n",
    "# Print the result rounded to three decimal places\n",
    "print(f'Difference in average following (hireable - non-hireable): {difference:.3f}')"
   ]
  },
  {
   "cell_type": "code",
   "execution_count": 20,
   "metadata": {},
   "outputs": [
    {
     "name": "stdout",
     "output_type": "stream",
     "text": [
      "Regression slope of followers on bio word count: 40.894\n"
     ]
    }
   ],
   "source": [
    "# 13. Some developers write long bios. Does that help them get more followers? What's the impact of the length of their bio (in Unicode words, split by whitespace) with followers? (Ignore people without bios)\n",
    "\n",
    "# Filter out users without bios\n",
    "users_with_bios = users_df[users_df['bio'].notna()].copy()\n",
    "\n",
    "# Calculate the word count of each bio\n",
    "users_with_bios['bio_word_count'] = users_with_bios['bio'].apply(lambda x: len(x.split()))\n",
    "\n",
    "# Prepare the data for regression\n",
    "X = users_with_bios['bio_word_count']  # Independent variable\n",
    "y = users_with_bios['followers']        # Dependent variable\n",
    "\n",
    "# Add a constant to the independent variable for the regression\n",
    "X = sm.add_constant(X)\n",
    "\n",
    "# Fit the regression model\n",
    "model = sm.OLS(y, X).fit()\n",
    "\n",
    "# Get the regression slope (coefficient for bio_word_count)\n",
    "slope = model.params['bio_word_count']\n",
    "\n",
    "# Print the slope rounded to three decimal places\n",
    "print(f'Regression slope of followers on bio word count: {slope:.3f}')\n"
   ]
  },
  {
   "cell_type": "code",
   "execution_count": 21,
   "metadata": {},
   "outputs": [
    {
     "name": "stdout",
     "output_type": "stream",
     "text": [
      "mrcjkb,JonnyBurger,eregon,kynan,lris\n"
     ]
    }
   ],
   "source": [
    "# 14. Who created the most repositories on weekends (UTC)? List the top 5 users' login in order, comma-separated\n",
    "\n",
    "# Convert the created_at column to datetime\n",
    "repositories_df['created_at'] = pd.to_datetime(repositories_df['created_at'], errors='coerce')\n",
    "\n",
    "# Drop rows with invalid dates\n",
    "repositories_df = repositories_df.dropna(subset=['created_at'])\n",
    "\n",
    "# Filter for weekend days (Saturday: 5, Sunday: 6)\n",
    "weekend_repos = repositories_df[repositories_df['created_at'].dt.dayofweek.isin([5, 6])]\n",
    "\n",
    "# Count the number of repositories created by each user on weekends\n",
    "weekend_repo_counts = Counter(weekend_repos['login'])\n",
    "\n",
    "# Get the top 5 users who created the most repositories on weekends\n",
    "top_users = weekend_repo_counts.most_common(5)\n",
    "\n",
    "# Extract the logins of the top users\n",
    "top_logins = [user[0] for user in top_users]\n",
    "\n",
    "# Output the top users' logins as a comma-separated string\n",
    "print(','.join(top_logins))"
   ]
  },
  {
   "cell_type": "code",
   "execution_count": 3,
   "metadata": {},
   "outputs": [
    {
     "name": "stdout",
     "output_type": "stream",
     "text": [
      "Difference in fraction of users with email: 0.068\n"
     ]
    }
   ],
   "source": [
    "# 15. Do people who are hireable share their email addresses more often?\n",
    "\n",
    "# Total number of users\n",
    "total_users = len(users_df)\n",
    "\n",
    "# Filter hireable and non-hireable users\n",
    "hireable_users = users_df[users_df['hireable'] == True]\n",
    "non_hireable_users = users_df[users_df['hireable'].isna() | (users_df['hireable'] == False)]\n",
    "\n",
    "# Calculate the fraction of users with email in both groups\n",
    "fraction_hireable_with_email = hireable_users['email'].notna().mean()\n",
    "fraction_non_hireable_with_email = non_hireable_users['email'].notna().mean()\n",
    "\n",
    "# Calculate the difference\n",
    "difference = fraction_hireable_with_email - fraction_non_hireable_with_email\n",
    "\n",
    "# Print the result rounded to three decimal places\n",
    "print(f'Difference in fraction of users with email: {difference:.3f}')"
   ]
  },
  {
   "cell_type": "code",
   "execution_count": 5,
   "metadata": {},
   "outputs": [
    {
     "name": "stdout",
     "output_type": "stream",
     "text": [
      "Most common surname(s): Li,Wang\n"
     ]
    }
   ],
   "source": [
    "# 16. Let's assume that the last word in a user's name is their surname (ignore missing names, trim and split by whitespace.) What's the most common surname? (If there's a tie, list them all, comma-separated, alphabetically)\n",
    "\n",
    "# Filter out users without names\n",
    "valid_users = users_df[users_df['name'].notna()].copy()\n",
    "\n",
    "# Extract surnames (last word in name)\n",
    "valid_users['surname'] = valid_users['name'].str.strip().str.split().str[-1]\n",
    "\n",
    "# Count occurrences of each surname\n",
    "surname_counts = valid_users['surname'].value_counts()\n",
    "\n",
    "# Find the most common surname(s)\n",
    "max_count = surname_counts.max()\n",
    "most_common_surnames = surname_counts[surname_counts == max_count].index.tolist()\n",
    "\n",
    "# Sort surnames alphabetically\n",
    "most_common_surnames.sort()\n",
    "\n",
    "# Count users with the most common surname\n",
    "number_of_users = max_count\n",
    "\n",
    "# Print results\n",
    "most_common_surnames_str = ','.join(most_common_surnames)\n",
    "print(f'Most common surname(s): {most_common_surnames_str}')"
   ]
  }
 ],
 "metadata": {
  "kernelspec": {
   "display_name": "Python 3",
   "language": "python",
   "name": "python3"
  },
  "language_info": {
   "codemirror_mode": {
    "name": "ipython",
    "version": 3
   },
   "file_extension": ".py",
   "mimetype": "text/x-python",
   "name": "python",
   "nbconvert_exporter": "python",
   "pygments_lexer": "ipython3",
   "version": "3.12.0"
  }
 },
 "nbformat": 4,
 "nbformat_minor": 2
}
